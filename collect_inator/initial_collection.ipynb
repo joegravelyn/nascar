{
 "cells": [
  {
   "cell_type": "code",
   "execution_count": null,
   "id": "d324e839",
   "metadata": {},
   "outputs": [],
   "source": [
    "# Config workaround\n",
    "import configparser\n",
    "from sqlalchemy import create_engine\n",
    "\n",
    "config = configparser.ConfigParser()\n",
    "config.read(\"C:/Users/joegr/source/repos/nascar/config.ini\")\n",
    "\n",
    "url_user_header = config[\"url_request\"][\"user_header\"]\n",
    "\n",
    "mysql_engine = create_engine(f\"mysql+mysqlconnector://{config[\"mysql\"][\"user\"]}:{config[\"mysql\"][\"password\"]}@{config[\"mysql\"][\"host\"]}/nascar\")\n"
   ]
  },
  {
   "cell_type": "code",
   "execution_count": null,
   "id": "cb286ad9",
   "metadata": {},
   "outputs": [],
   "source": [
    "# # Race List\n",
    "# import pandas as pd\n",
    "# import requests\n",
    "# from toolbox import Race\n",
    "\n",
    "\n",
    "# # Try to get responses from NASCAR.com\n",
    "# code = 200\n",
    "# year = 2025\n",
    "\n",
    "# responses = {}\n",
    "# while code == 200:\n",
    "#    response = requests.get(f\"https://cf.nascar.com/cacher/{year}/race_list_basic.json\", url_user_header)\n",
    "#    code = response.status_code\n",
    "#    if code == 200: responses[year] = response\n",
    "#    year -= 1\n",
    "\n",
    "# races: list[Race] = []\n",
    "\n",
    "# # Loop through each year in responses\n",
    "# for year in responses:\n",
    "#    per_year_race_list = responses[year].json()\n",
    "\n",
    "#    # Loop through top element (series) in response json\n",
    "#    for series in per_year_race_list:\n",
    "#       series_race_list = per_year_race_list[series]\n",
    "#       races += [Race.from_dict(race) for race in series_race_list]\n",
    "\n",
    "# races_df = pd.DataFrame(races)\n",
    "# races_df.to_sql(\"races\", con=mysql_engine, if_exists=\"append\", index=False)\n",
    "# # races_df"
   ]
  }
 ],
 "metadata": {
  "kernelspec": {
   "display_name": "Python 3",
   "language": "python",
   "name": "python3"
  },
  "language_info": {
   "codemirror_mode": {
    "name": "ipython",
    "version": 3
   },
   "file_extension": ".py",
   "mimetype": "text/x-python",
   "name": "python",
   "nbconvert_exporter": "python",
   "pygments_lexer": "ipython3",
   "version": "3.13.3"
  }
 },
 "nbformat": 4,
 "nbformat_minor": 5
}
