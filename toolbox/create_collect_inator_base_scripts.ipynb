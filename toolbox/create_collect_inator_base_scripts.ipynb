{
 "cells": [
  {
   "cell_type": "code",
   "execution_count": 18,
   "id": "6d1c9d09",
   "metadata": {},
   "outputs": [],
   "source": [
    "import nascar_api\n",
    "from pathlib import Path"
   ]
  },
  {
   "cell_type": "code",
   "execution_count": 19,
   "id": "16289fde",
   "metadata": {},
   "outputs": [],
   "source": [
    "parent_dir = Path.cwd().parent\n",
    "inator_dir = parent_dir.joinpath(\"collect_inator\")\n",
    "inator_dir.mkdir(exist_ok=True)"
   ]
  },
  {
   "cell_type": "code",
   "execution_count": null,
   "id": "e4a29d61",
   "metadata": {},
   "outputs": [],
   "source": [
    "for fi, f in enumerate(nascar_api.Feeds):\n",
    "   #print(fi, f.name, f.value)\n",
    "   p = f.value.params\n",
    "   param_string = (\", \" + \", \".join([f\"{x}: int\" for x in p])) if p != [] else \"\"\n",
    "   # param_string = (\", \" + \": int, \".join(p) + \": int\") if p != [] else \"\"\n",
    "   dict_string = \", \".join([f\"\\\"{x}\\\": {x}\" for x in p])\n",
    "   \n",
    "   script_string = f\"\"\"from toolbox.nascar_api import Feeds, get_api_data\n",
    "from sqlalchemy import Engine \n",
    "import pandas as pd\n",
    "\n",
    "def get_{f.name.lower()}(url_header: str{param_string}, sql_engine: Engine, load_to_sql: bool = True) -> tuple[bool, pd.DataFrame]:\n",
    "   api_result = get_api_data(Feeds.{f.name}, {{{dict_string}}}, url_header=url_header)\n",
    "\n",
    "   if api_result[0]:\n",
    "      df = api_result[2]\n",
    "\n",
    "      # cleaning logic goes here if needed\n",
    "      \n",
    "      if load_to_sql:\n",
    "         exist_df = pd\n",
    "         df.to_sql(\"{f.name.lower()}\", con=sql_engine, if_exists=\"append\", index=False)\n",
    "\n",
    "      return (True, df)\n",
    "   else:\n",
    "      print(f\"API call failed for Feeds.{f.name}. URL response code = {{api_result[1]}}\")\n",
    "      return (False, pd.DataFrame())\"\"\"\n",
    "   \n",
    "   script_dir = inator_dir.joinpath(f\"generated_{f.name.lower()}\").with_suffix(\".py\")\n",
    "   if not script_dir.exists():\n",
    "      script_dir.touch()\n",
    "      script_dir.write_text(script_string)"
   ]
  }
 ],
 "metadata": {
  "kernelspec": {
   "display_name": "Python 3",
   "language": "python",
   "name": "python3"
  },
  "language_info": {
   "codemirror_mode": {
    "name": "ipython",
    "version": 3
   },
   "file_extension": ".py",
   "mimetype": "text/x-python",
   "name": "python",
   "nbconvert_exporter": "python",
   "pygments_lexer": "ipython3",
   "version": "3.13.3"
  }
 },
 "nbformat": 4,
 "nbformat_minor": 5
}
