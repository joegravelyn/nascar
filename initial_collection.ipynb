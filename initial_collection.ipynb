{
 "cells": [
  {
   "cell_type": "code",
   "execution_count": null,
   "id": "93e6409b",
   "metadata": {},
   "outputs": [],
   "source": [
    "import pandas as pd\n",
    "from toolbox import nascar_api\n",
    "import collect_inator\n",
    "from datetime import date"
   ]
  },
  {
   "cell_type": "code",
   "execution_count": null,
   "id": "d324e839",
   "metadata": {},
   "outputs": [],
   "source": [
    "# Config workaround\n",
    "import configparser\n",
    "from sqlalchemy import create_engine\n",
    "\n",
    "config = configparser.ConfigParser()\n",
    "config.read(\"C:/Users/joegr/source/repos/nascar/config.ini\")\n",
    "\n",
    "url_header = config[\"url_request\"][\"user_header\"]\n",
    "\n",
    "mysql_engine = create_engine(f\"mysql+mysqlconnector://{config[\"mysql\"][\"user\"]}:{config[\"mysql\"][\"password\"]}@{config[\"mysql\"][\"host\"]}/nascar\")\n",
    "sql_load = False"
   ]
  }
 ],
 "metadata": {
  "kernelspec": {
   "display_name": "Python 3",
   "language": "python",
   "name": "python3"
  },
  "language_info": {
   "codemirror_mode": {
    "name": "ipython",
    "version": 3
   },
   "file_extension": ".py",
   "mimetype": "text/x-python",
   "name": "python",
   "nbconvert_exporter": "python",
   "pygments_lexer": "ipython3",
   "version": "3.13.3"
  }
 },
 "nbformat": 4,
 "nbformat_minor": 5
}
