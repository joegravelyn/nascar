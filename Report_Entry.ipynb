{
 "cells": [
  {
   "cell_type": "code",
   "execution_count": null,
   "id": "d0eba06e",
   "metadata": {},
   "outputs": [],
   "source": [
    "# Imports\n",
    "import pyETL.toolbox.nascar_toolbox as nascar_toolbox\n",
    "import camelot\n",
    "import pandas as pd\n",
    "\n",
    "process_type = \"Entry\""
   ]
  },
  {
   "cell_type": "code",
   "execution_count": 2,
   "id": "8f382536",
   "metadata": {},
   "outputs": [],
   "source": [
    "report_page_columns = {\n",
    "   \"Entry\": [\n",
    "      (\"\", \"EntryNumber\"),\n",
    "      (\"Car\", \"CarNumber\"),\n",
    "      (\"Driver\", \"Driver Name\"),\n",
    "      (\"Manufacturer\", \"Manufacturer\"),\n",
    "      (\"Sponsor\", \"Sponsor\"),\n",
    "      (\"Owner\", \"Owner Name\"),\n",
    "      (\"Crew Chief\", \"Crew Chief\"),\n",
    "   ],\n",
    "   \"EntryAlt\": [\n",
    "      (\"\", \"EntryNumber\"),\n",
    "      (\"Entry Veh#\", \"CarNumber\"),\n",
    "      (\"Driver\", \"Driver Name\"),\n",
    "      (\"Organization\", \"Owner Name\"),\n",
    "      (\"Crew Chief\", \"Crew Chief\"),\n",
    "      (\"Veh Mfg\", \"Manufacturer\"),\n",
    "      (\"Sponsor\", \"Sponsor\"),\n",
    "   ]\n",
    "}"
   ]
  },
  {
   "cell_type": "code",
   "execution_count": 3,
   "id": "e1d5da83",
   "metadata": {},
   "outputs": [],
   "source": [
    "# Get dataframes from all pages of PDF\n",
    "stage_race_metrics_df = nascar_toolbox.create_empty_race_metrics_df()\n",
    "stage_entry_metrics_df = nascar_toolbox.create_empty_entry_metrics_df()\n",
    "audit_log_df = nascar_toolbox.create_empty_audit_log_df()\n",
    "\n",
    "# last_run = nascar_toolbox.get_last_run(report_type)\n",
    "report_dir = nascar_toolbox.get_data_dir(process_type)\n",
    "\n",
    "for report in report_dir.glob(\"**/*.pdf\"):\n",
    "   report_file = report.relative_to(report_dir)\n",
    "   report_dfs = camelot.read_pdf(report, flavor=\"stream\", pages=\"all\")\n",
    "   for i, d in enumerate(report_dfs):\n",
    "      report_df = d.df\n",
    "\n",
    "      first_entry_i = report_df[report_df[0] == \"1\"].index[0]\n",
    "      page_definition = nascar_toolbox.check_for_report_page_definiton(process=process_type, report_columns=report_page_columns, report_file=report_file, table_i=i, report_df=report_df, first_entry_i=first_entry_i, audit_log_df=audit_log_df)\n",
    "      if page_definition[\"result\"]:\n",
    "         page_columns = [c[1] for c in report_page_columns[page_definition[\"found_page\"]]]\n",
    "         report_df.columns = page_columns\n",
    "\n",
    "         # Remove rows before first actual entry\n",
    "         first_entry_i = report_df[report_df[\"EntryNumber\"] == \"1\"].index[0]\n",
    "         report_df = report_df[first_entry_i:].reset_index(drop=True)\n",
    "\n",
    "         # Fix cases where values were wrapped to the next line (i.e. one entry is multiple rows in df)\n",
    "         # Join column values of row without entry number to previous row\n",
    "         non_entry_indices = report_df.loc[report_df[\"EntryNumber\"] == \"\"].index\n",
    "         for nei in reversed(non_entry_indices):\n",
    "            temp = report_df[nei - 1: nei + 1].copy()\n",
    "            temp[\"gb\"] = nei - 1\n",
    "            report_df.update(temp.groupby(\"gb\", sort=False)[page_columns].agg(\" \".join).map(lambda x: str(x).strip()))#.apply(lambda x: x.str.strip))\n",
    "            report_df = report_df.drop([nei])\n",
    "\n",
    "         # TODO\n",
    "         # Remove non numerical entry numbers\n",
    "         # Catch column values getting join (i.e. blank columns)\n",
    "         # Car number with * - non-chartered cars\n",
    "         # Drivers with # - rookies\n",
    "         # Drivers with (i) - point ineligible\n",
    "\n",
    "         report_df = report_df.reset_index(drop=True)\n",
    "         # print(report_df.to_string())\n",
    "\n"
   ]
  }
 ],
 "metadata": {
  "kernelspec": {
   "display_name": "Python 3",
   "language": "python",
   "name": "python3"
  },
  "language_info": {
   "codemirror_mode": {
    "name": "ipython",
    "version": 3
   },
   "file_extension": ".py",
   "mimetype": "text/x-python",
   "name": "python",
   "nbconvert_exporter": "python",
   "pygments_lexer": "ipython3",
   "version": "3.13.3"
  }
 },
 "nbformat": 4,
 "nbformat_minor": 5
}
